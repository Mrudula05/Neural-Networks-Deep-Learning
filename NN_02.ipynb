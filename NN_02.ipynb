{
  "nbformat": 4,
  "nbformat_minor": 0,
  "metadata": {
    "colab": {
      "name": "NN_02.ipynb",
      "provenance": [],
      "collapsed_sections": []
    },
    "kernelspec": {
      "name": "python3",
      "display_name": "Python 3"
    },
    "language_info": {
      "name": "python"
    }
  },
  "cells": [
    {
      "cell_type": "code",
      "metadata": {
        "id": "YY7XZTobdbgN"
      },
      "source": [
        "# Code to read csv file into colaboratory:\n",
        "!pip install -U -q PyDrive\n",
        "from pydrive.auth import GoogleAuth\n",
        "from pydrive.drive import GoogleDrive\n",
        "from google.colab import auth\n",
        "from oauth2client.client import GoogleCredentials"
      ],
      "execution_count": 1,
      "outputs": []
    },
    {
      "cell_type": "code",
      "metadata": {
        "id": "90-DKbpDNoHh"
      },
      "source": [
        "auth.authenticate_user()\n",
        "gauth = GoogleAuth()\n",
        "gauth.credentials = GoogleCredentials.get_application_default()\n",
        "drive = GoogleDrive(gauth)"
      ],
      "execution_count": 2,
      "outputs": []
    },
    {
      "cell_type": "code",
      "metadata": {
        "id": "pQ1wFsJNO9EJ"
      },
      "source": [
        "import h5py\n",
        "import numpy as np"
      ],
      "execution_count": 3,
      "outputs": []
    },
    {
      "cell_type": "code",
      "metadata": {
        "id": "OHE0iZNgPAxd"
      },
      "source": [
        "f = drive.CreateFile({'id':'1PEXoZmxT1MH9AuatTG4JuuzjcCU0Q2oS'}) # replace the id with id of file you want to access\n",
        "f.GetContentFile('Part - 4 - Autonomous_Vehicles_SVHN_single_grey1.h5')"
      ],
      "execution_count": 4,
      "outputs": []
    },
    {
      "cell_type": "code",
      "metadata": {
        "id": "FE3u3HaxTJAF"
      },
      "source": [
        "f =h5py.File('Part - 4 - Autonomous_Vehicles_SVHN_single_grey1.h5','r')"
      ],
      "execution_count": 5,
      "outputs": []
    },
    {
      "cell_type": "code",
      "metadata": {
        "id": "nmcBzHqtTQ_Z"
      },
      "source": [
        "X_train = f['X_train'][:]\n",
        "y_train1= f['y_train'][:]\n",
        "X_test= f['X_test'][:]\n",
        "y_test1= f['y_test'][:]"
      ],
      "execution_count": 7,
      "outputs": []
    },
    {
      "cell_type": "code",
      "metadata": {
        "colab": {
          "base_uri": "https://localhost:8080/"
        },
        "id": "Xp1PrkbTTVNe",
        "outputId": "035f729f-3745-49cc-d94b-8066e624b3d8"
      },
      "source": [
        "f.close"
      ],
      "execution_count": 8,
      "outputs": [
        {
          "output_type": "execute_result",
          "data": {
            "text/plain": [
              "<bound method File.close of <HDF5 file \"Part - 4 - Autonomous_Vehicles_SVHN_single_grey1.h5\" (mode r)>>"
            ]
          },
          "metadata": {
            "tags": []
          },
          "execution_count": 8
        }
      ]
    },
    {
      "cell_type": "code",
      "metadata": {
        "id": "tX5rvlXNTaEl"
      },
      "source": [
        "import numpy as np\n",
        "from keras.datasets import mnist\n",
        "from keras.models import Sequential"
      ],
      "execution_count": 9,
      "outputs": []
    },
    {
      "cell_type": "code",
      "metadata": {
        "id": "qJ9UY6kKTdMv"
      },
      "source": [
        "from keras.utils import np_utils"
      ],
      "execution_count": 10,
      "outputs": []
    },
    {
      "cell_type": "code",
      "metadata": {
        "id": "_vW75YKtTlOZ"
      },
      "source": [
        "from keras.layers import Dense, Dropout, Activation, Flatten"
      ],
      "execution_count": 11,
      "outputs": []
    },
    {
      "cell_type": "code",
      "metadata": {
        "id": "bkC08D29TriZ"
      },
      "source": [
        "# fix random seed for reproducability \n",
        "seed = 7\n",
        "np.random.seed(seed)"
      ],
      "execution_count": 12,
      "outputs": []
    },
    {
      "cell_type": "code",
      "metadata": {
        "colab": {
          "base_uri": "https://localhost:8080/",
          "height": 624
        },
        "id": "kM6IGp4aTu_S",
        "outputId": "141e825a-b7b5-4b90-c298-d82d408d11cf"
      },
      "source": [
        "%matplotlib inline\n",
        "import matplotlib.pyplot as plt\n",
        "plt.figure(figsize=(10,1))\n",
        "for i in range(10):\n",
        "  plt.subplot(1,10,i+1)\n",
        "  plt.imshow(X_train[i], cmap=\"gray\")\n",
        "  plt.axis('off')\n",
        "  plt.show()\n",
        "  print('label for each of the above image:%s'%(y_train1[0:10]))"
      ],
      "execution_count": 13,
      "outputs": [
        {
          "output_type": "display_data",
          "data": {
            "image/png": "[encoded data removed]",
            "text/plain": [
              "<Figure size 720x72 with 1 Axes>"
            ]
          },
          "metadata": {
            "tags": [],
            "needs_background": "light"
          }
        },
        {
          "output_type": "stream",
          "text": [
            "label for each of the above image:[2 6 7 4 4 0 3 0 7 3]\n"
          ],
          "name": "stdout"
        },
        {
          "output_type": "display_data",
          "data": {
            "image/png": "[encoded data removed]",
            "text/plain": [
              "<Figure size 432x288 with 1 Axes>"
            ]
          },
          "metadata": {
            "tags": [],
            "needs_background": "light"
          }
        },
        {
          "output_type": "stream",
          "text": [
            "label for each of the above image:[2 6 7 4 4 0 3 0 7 3]\n"
          ],
          "name": "stdout"
        },
        {
          "output_type": "display_data",
          "data": {
            "image/png": "[encoded data removed]",
            "text/plain": [
              "<Figure size 432x288 with 1 Axes>"
            ]
          },
          "metadata": {
            "tags": [],
            "needs_background": "light"
          }
        },
        {
          "output_type": "stream",
          "text": [
            "label for each of the above image:[2 6 7 4 4 0 3 0 7 3]\n"
          ],
          "name": "stdout"
        },
        {
          "output_type": "display_data",
          "data": {
            "image/png": "[encoded data removed]",
            "text/plain": [
              "<Figure size 432x288 with 1 Axes>"
            ]
          },
          "metadata": {
            "tags": [],
            "needs_background": "light"
          }
        },
        {
          "output_type": "stream",
          "text": [
            "label for each of the above image:[2 6 7 4 4 0 3 0 7 3]\n"
          ],
          "name": "stdout"
        },
        {
          "output_type": "display_data",
          "data": {
            "image/png": "[encoded data removed]",
            "text/plain": [
              "<Figure size 432x288 with 1 Axes>"
            ]
          },
          "metadata": {
            "tags": [],
            "needs_background": "light"
          }
        },
        {
          "output_type": "stream",
          "text": [
            "label for each of the above image:[2 6 7 4 4 0 3 0 7 3]\n"
          ],
          "name": "stdout"
        },
        {
          "output_type": "display_data",
          "data": {
            "image/png": "[encoded data removed]",
            "text/plain": [
              "<Figure size 432x288 with 1 Axes>"
            ]
          },
          "metadata": {
            "tags": [],
            "needs_background": "light"
          }
        },
        {
          "output_type": "stream",
          "text": [
            "label for each of the above image:[2 6 7 4 4 0 3 0 7 3]\n"
          ],
          "name": "stdout"
        },
        {
          "output_type": "display_data",
          "data": {
            "image/png": "[encoded data removed]",
            "text/plain": [
              "<Figure size 432x288 with 1 Axes>"
            ]
          },
          "metadata": {
            "tags": [],
            "needs_background": "light"
          }
        },
        {
          "output_type": "stream",
          "text": [
            "label for each of the above image:[2 6 7 4 4 0 3 0 7 3]\n"
          ],
          "name": "stdout"
        },
        {
          "output_type": "display_data",
          "data": {
            "image/png": "[encoded data removed]",
            "text/plain": [
              "<Figure size 432x288 with 1 Axes>"
            ]
          },
          "metadata": {
            "tags": [],
            "needs_background": "light"
          }
        },
        {
          "output_type": "stream",
          "text": [
            "label for each of the above image:[2 6 7 4 4 0 3 0 7 3]\n"
          ],
          "name": "stdout"
        },
        {
          "output_type": "display_data",
          "data": {
            "image/png": "[encoded data removed]",
            "text/plain": [
              "<Figure size 432x288 with 1 Axes>"
            ]
          },
          "metadata": {
            "tags": [],
            "needs_background": "light"
          }
        },
        {
          "output_type": "stream",
          "text": [
            "label for each of the above image:[2 6 7 4 4 0 3 0 7 3]\n"
          ],
          "name": "stdout"
        },
        {
          "output_type": "display_data",
          "data": {
            "image/png": "[encoded data removed]",
            "text/plain": [
              "<Figure size 432x288 with 1 Axes>"
            ]
          },
          "metadata": {
            "tags": [],
            "needs_background": "light"
          }
        },
        {
          "output_type": "stream",
          "text": [
            "label for each of the above image:[2 6 7 4 4 0 3 0 7 3]\n"
          ],
          "name": "stdout"
        }
      ]
    },
    {
      "cell_type": "code",
      "metadata": {
        "id": "rK_8YyHYT0Ek"
      },
      "source": [
        "X_train= X_train.reshape(X_train.shape[0],1024)\n",
        "X_test = X_test.reshape(X_test.shape[0],1024)"
      ],
      "execution_count": 14,
      "outputs": []
    },
    {
      "cell_type": "code",
      "metadata": {
        "colab": {
          "base_uri": "https://localhost:8080/"
        },
        "id": "jBWQQIeJT4fy",
        "outputId": "b8616bde-3325-4314-bb6f-85b93f940e9f"
      },
      "source": [
        "# #normalize inputs from 0-255 to 0-1\n",
        "X_train= X_train/255.0\n",
        "X_test =X_test/255.0\n",
        "print('Training set',X_train.shape,y_train1.shape)\n",
        "print('Testset',X_test.shape,y_test1.shape)"
      ],
      "execution_count": 15,
      "outputs": [
        {
          "output_type": "stream",
          "text": [
            "Training set (42000, 1024) (42000,)\n",
            "Testset (18000, 1024) (18000,)\n"
          ],
          "name": "stdout"
        }
      ]
    },
    {
      "cell_type": "code",
      "metadata": {
        "colab": {
          "base_uri": "https://localhost:8080/"
        },
        "id": "Y0yFvuxiT75j",
        "outputId": "41cb8fda-bc06-40b4-be83-3832aa3cbcb4"
      },
      "source": [
        "# one hot encode outputs\n",
        "y_train = np_utils.to_categorical(y_train1)\n",
        "y_test=np_utils.to_categorical(y_test1)\n",
        "\n",
        "#no of classes\n",
        "num_classes= y_test.shape[1]\n",
        "num_hidden=32\n",
        "num_classes"
      ],
      "execution_count": 16,
      "outputs": [
        {
          "output_type": "execute_result",
          "data": {
            "text/plain": [
              "10"
            ]
          },
          "metadata": {
            "tags": []
          },
          "execution_count": 16
        }
      ]
    },
    {
      "cell_type": "code",
      "metadata": {
        "id": "_Eg5EcnDUFJU"
      },
      "source": [
        "x_tr = []\n",
        "for i in range (42000):\n",
        "  x_tr.append(X_train[i,:].flatten())\n",
        "x_te=[]\n",
        "for i in range(18000):\n",
        "  x_te.append(X_test[i,:].flatten())"
      ],
      "execution_count": 17,
      "outputs": []
    },
    {
      "cell_type": "code",
      "metadata": {
        "id": "gn_V6Aq9UJFH"
      },
      "source": [
        "x_tr =x_tr[:2000]\n",
        "x_te= x_te[:2000]\n",
        "\n",
        "y_tr= y_train1[0:2000]\n",
        "y_te =y_test1[0:2000]"
      ],
      "execution_count": 18,
      "outputs": []
    },
    {
      "cell_type": "code",
      "metadata": {
        "colab": {
          "base_uri": "https://localhost:8080/"
        },
        "id": "1oSPHtRvUNER",
        "outputId": "720c8392-b254-4bab-8bf6-f8e099f8af25"
      },
      "source": [
        "print(len(x_tr))\n",
        "print(len(y_tr))\n",
        "print(len(x_te))\n",
        "print(len(y_te))"
      ],
      "execution_count": 23,
      "outputs": [
        {
          "output_type": "stream",
          "text": [
            "2000\n",
            "2000\n",
            "2000\n",
            "2000\n"
          ],
          "name": "stdout"
        }
      ]
    },
    {
      "cell_type": "code",
      "metadata": {
        "id": "pD8wM9AdURHz"
      },
      "source": [
        "a=[]\n",
        "j=[]\n",
        "def knnvalue(k):\n",
        "  from sklearn.neighbors import KNeighborsClassifier\n",
        "  NHH = KNeighborsClassifier(n_neighbors=k,weights='uniform')\n",
        "  NHH.fit(x_tr,y_tr)\n",
        "  predicted_labels= NHH.predict(x_te)\n",
        "  from sklearn.metrics import accuracy_score\n",
        "  ascore= accuracy_score(y_te,predicted_labels)\n",
        "  MSE= 1-ascore\n",
        "  a.append(MSE)\n",
        "  j.append(k)\n",
        "  print(ascore)"
      ],
      "execution_count": 24,
      "outputs": []
    },
    {
      "cell_type": "code",
      "metadata": {
        "colab": {
          "base_uri": "https://localhost:8080/"
        },
        "id": "KniqyT-LUVGj",
        "outputId": "6435bd22-8545-422b-fb3c-db088688b7ae"
      },
      "source": [
        "for i in range(1,30,2):\n",
        "  knnvalue(i)"
      ],
      "execution_count": 25,
      "outputs": [
        {
          "output_type": "stream",
          "text": [
            "0.2975\n",
            "0.292\n",
            "0.3015\n",
            "0.307\n",
            "0.3055\n",
            "0.311\n",
            "0.2975\n",
            "0.294\n",
            "0.2975\n",
            "0.2935\n",
            "0.2945\n",
            "0.2955\n",
            "0.2865\n",
            "0.2805\n",
            "0.279\n"
          ],
          "name": "stdout"
        }
      ]
    },
    {
      "cell_type": "markdown",
      "metadata": {
        "id": "5rDWHWqppcak"
      },
      "source": [
        "# for the above run the KNN value is the lowest for K=11"
      ]
    },
    {
      "cell_type": "code",
      "metadata": {
        "id": "6sv7_y85UbVr"
      },
      "source": [
        "from sklearn.neighbors import KNeighborsClassifier\n",
        "NHH = KNeighborsClassifier(n_neighbors=11,weights='uniform')\n",
        "NHH.fit(x_tr,y_tr)\n",
        "pred= NHH.predict(x_te)"
      ],
      "execution_count": 26,
      "outputs": []
    },
    {
      "cell_type": "code",
      "metadata": {
        "colab": {
          "base_uri": "https://localhost:8080/"
        },
        "id": "1ddSQpP6Wsgq",
        "outputId": "0bfc81bb-65a0-4b34-b6d4-a3159060b46a"
      },
      "source": [
        "len(pred)"
      ],
      "execution_count": 27,
      "outputs": [
        {
          "output_type": "execute_result",
          "data": {
            "text/plain": [
              "2000"
            ]
          },
          "metadata": {
            "tags": []
          },
          "execution_count": 27
        }
      ]
    },
    {
      "cell_type": "code",
      "metadata": {
        "colab": {
          "base_uri": "https://localhost:8080/"
        },
        "id": "nqJ_gxLrWwjn",
        "outputId": "51bb089d-d90c-499d-e148-bd1dc778a215"
      },
      "source": [
        "pred[0]"
      ],
      "execution_count": 28,
      "outputs": [
        {
          "output_type": "execute_result",
          "data": {
            "text/plain": [
              "6"
            ]
          },
          "metadata": {
            "tags": []
          },
          "execution_count": 28
        }
      ]
    },
    {
      "cell_type": "code",
      "metadata": {
        "colab": {
          "base_uri": "https://localhost:8080/"
        },
        "id": "YJ8kkuxKWzez",
        "outputId": "5702e7fb-ee79-429d-c824-6fd550f7ccc7"
      },
      "source": [
        "pred[1]"
      ],
      "execution_count": 29,
      "outputs": [
        {
          "output_type": "execute_result",
          "data": {
            "text/plain": [
              "0"
            ]
          },
          "metadata": {
            "tags": []
          },
          "execution_count": 29
        }
      ]
    },
    {
      "cell_type": "code",
      "metadata": {
        "colab": {
          "base_uri": "https://localhost:8080/"
        },
        "id": "D6t_U8JAW1sr",
        "outputId": "1d628139-aea2-4a29-ffa3-ad1867e77074"
      },
      "source": [
        "y_te[0]"
      ],
      "execution_count": 30,
      "outputs": [
        {
          "output_type": "execute_result",
          "data": {
            "text/plain": [
              "1"
            ]
          },
          "metadata": {
            "tags": []
          },
          "execution_count": 30
        }
      ]
    },
    {
      "cell_type": "code",
      "metadata": {
        "colab": {
          "base_uri": "https://localhost:8080/"
        },
        "id": "Cfivx0puW-7I",
        "outputId": "4354627c-fcc2-4cf9-efd1-18159e1caab4"
      },
      "source": [
        "# Finding out the confusion matrix and accuracy \n",
        "from sklearn.metrics import confusion_matrix\n",
        "from sklearn.metrics import classification_report\n",
        "print(classification_report(pred,y_te))"
      ],
      "execution_count": 31,
      "outputs": [
        {
          "output_type": "stream",
          "text": [
            "              precision    recall  f1-score   support\n",
            "\n",
            "           0       0.48      0.29      0.36       363\n",
            "           1       0.55      0.31      0.40       325\n",
            "           2       0.39      0.26      0.31       277\n",
            "           3       0.19      0.22      0.21       164\n",
            "           4       0.46      0.42      0.44       219\n",
            "           5       0.20      0.33      0.25       132\n",
            "           6       0.25      0.27      0.26       190\n",
            "           7       0.32      0.49      0.39       132\n",
            "           8       0.10      0.32      0.15        60\n",
            "           9       0.18      0.26      0.21       138\n",
            "\n",
            "    accuracy                           0.31      2000\n",
            "   macro avg       0.31      0.32      0.30      2000\n",
            "weighted avg       0.37      0.31      0.32      2000\n",
            "\n"
          ],
          "name": "stdout"
        }
      ]
    },
    {
      "cell_type": "markdown",
      "metadata": {
        "id": "awlRTm2MXHgX"
      },
      "source": [
        "From above classification we can say that KNN is not suitable model need to explore more."
      ]
    },
    {
      "cell_type": "code",
      "metadata": {
        "id": "pMVkKii7XRCQ"
      },
      "source": [
        "# define model\n",
        "import keras\n",
        "from keras import losses\n",
        "from keras import optimizers\n",
        "from keras.layers import Dropout,MaxPooling2D\n",
        "from keras.layers import BatchNormalization"
      ],
      "execution_count": 32,
      "outputs": []
    },
    {
      "cell_type": "code",
      "metadata": {
        "colab": {
          "base_uri": "https://localhost:8080/"
        },
        "id": "O2sIGfpYXaay",
        "outputId": "6a356633-955a-40d2-f919-a89a15faea9f"
      },
      "source": [
        "# create model\n",
        "def nn_model():\n",
        "  model= Sequential()\n",
        "  model.add(BatchNormalization(input_shape=((1024,)))) \n",
        "  model.add(Dense(256,activation='relu'))\n",
        "  model.add(Dense(64,activation='relu'))\n",
        "  model.add(Dense(32,activation='relu'))\n",
        "  model.add(Dense(num_classes,activation='softmax'))\n",
        "  # compile the model\n",
        "  sgd= optimizers.Adam(lr =1e-3)\n",
        "  model.compile(loss=losses.categorical_crossentropy,optimizer=sgd,metrics=['accuracy'])\n",
        "  return model\n",
        "# Build the model\n",
        "model = nn_model()\n",
        "# Fit the model\n",
        "history = model.fit(X_test,y_test, validation_data=(X_test,y_test),epochs=30,batch_size=200,verbose=2)\n",
        "scores= model.evaluate(X_test,y_test,verbose=0)\n",
        "print(\"Error:%.2f%%\" %(100-scores[1]*100))\n",
        "model.summary()"
      ],
      "execution_count": 33,
      "outputs": [
        {
          "output_type": "stream",
          "text": [
            "/usr/local/lib/python3.7/dist-packages/tensorflow/python/keras/optimizer_v2/optimizer_v2.py:375: UserWarning: The `lr` argument is deprecated, use `learning_rate` instead.\n",
            "  \"The `lr` argument is deprecated, use `learning_rate` instead.\")\n"
          ],
          "name": "stderr"
        },
        {
          "output_type": "stream",
          "text": [
            "Epoch 1/30\n",
            "90/90 - 19s - loss: 1.9698 - accuracy: 0.3084 - val_loss: 1.9261 - val_accuracy: 0.4967\n",
            "Epoch 2/30\n",
            "90/90 - 1s - loss: 1.2313 - accuracy: 0.6099 - val_loss: 1.3118 - val_accuracy: 0.6788\n",
            "Epoch 3/30\n",
            "90/90 - 1s - loss: 0.9997 - accuracy: 0.6913 - val_loss: 1.0210 - val_accuracy: 0.7187\n",
            "Epoch 4/30\n",
            "90/90 - 1s - loss: 0.8856 - accuracy: 0.7228 - val_loss: 0.8009 - val_accuracy: 0.7684\n",
            "Epoch 5/30\n",
            "90/90 - 1s - loss: 0.7963 - accuracy: 0.7505 - val_loss: 0.7216 - val_accuracy: 0.7820\n",
            "Epoch 6/30\n",
            "90/90 - 1s - loss: 0.7410 - accuracy: 0.7696 - val_loss: 0.6460 - val_accuracy: 0.8032\n",
            "Epoch 7/30\n",
            "90/90 - 1s - loss: 0.6808 - accuracy: 0.7886 - val_loss: 0.6407 - val_accuracy: 0.8012\n",
            "Epoch 8/30\n",
            "90/90 - 1s - loss: 0.6394 - accuracy: 0.7998 - val_loss: 0.5485 - val_accuracy: 0.8287\n",
            "Epoch 9/30\n",
            "90/90 - 1s - loss: 0.6132 - accuracy: 0.8059 - val_loss: 0.5373 - val_accuracy: 0.8353\n",
            "Epoch 10/30\n",
            "90/90 - 1s - loss: 0.5705 - accuracy: 0.8213 - val_loss: 0.4690 - val_accuracy: 0.8585\n",
            "Epoch 11/30\n",
            "90/90 - 1s - loss: 0.5248 - accuracy: 0.8345 - val_loss: 0.4670 - val_accuracy: 0.8578\n",
            "Epoch 12/30\n",
            "90/90 - 1s - loss: 0.5223 - accuracy: 0.8389 - val_loss: 0.4341 - val_accuracy: 0.8671\n",
            "Epoch 13/30\n",
            "90/90 - 1s - loss: 0.4816 - accuracy: 0.8469 - val_loss: 0.4138 - val_accuracy: 0.8728\n",
            "Epoch 14/30\n",
            "90/90 - 1s - loss: 0.4475 - accuracy: 0.8599 - val_loss: 0.3863 - val_accuracy: 0.8787\n",
            "Epoch 15/30\n",
            "90/90 - 1s - loss: 0.4420 - accuracy: 0.8623 - val_loss: 0.3869 - val_accuracy: 0.8804\n",
            "Epoch 16/30\n",
            "90/90 - 1s - loss: 0.4239 - accuracy: 0.8646 - val_loss: 0.3597 - val_accuracy: 0.8891\n",
            "Epoch 17/30\n",
            "90/90 - 1s - loss: 0.4092 - accuracy: 0.8702 - val_loss: 0.3506 - val_accuracy: 0.8914\n",
            "Epoch 18/30\n",
            "90/90 - 1s - loss: 0.3880 - accuracy: 0.8779 - val_loss: 0.3217 - val_accuracy: 0.8996\n",
            "Epoch 19/30\n",
            "90/90 - 1s - loss: 0.3633 - accuracy: 0.8871 - val_loss: 0.3796 - val_accuracy: 0.8824\n",
            "Epoch 20/30\n",
            "90/90 - 1s - loss: 0.3694 - accuracy: 0.8820 - val_loss: 0.2852 - val_accuracy: 0.9141\n",
            "Epoch 21/30\n",
            "90/90 - 1s - loss: 0.3394 - accuracy: 0.8924 - val_loss: 0.2756 - val_accuracy: 0.9150\n",
            "Epoch 22/30\n",
            "90/90 - 1s - loss: 0.3304 - accuracy: 0.8938 - val_loss: 0.2717 - val_accuracy: 0.9183\n",
            "Epoch 23/30\n",
            "90/90 - 1s - loss: 0.3188 - accuracy: 0.8987 - val_loss: 0.2449 - val_accuracy: 0.9229\n",
            "Epoch 24/30\n",
            "90/90 - 1s - loss: 0.2944 - accuracy: 0.9043 - val_loss: 0.2460 - val_accuracy: 0.9235\n",
            "Epoch 25/30\n",
            "90/90 - 1s - loss: 0.3102 - accuracy: 0.9016 - val_loss: 0.2449 - val_accuracy: 0.9238\n",
            "Epoch 26/30\n",
            "90/90 - 1s - loss: 0.2784 - accuracy: 0.9102 - val_loss: 0.2291 - val_accuracy: 0.9291\n",
            "Epoch 27/30\n",
            "90/90 - 1s - loss: 0.2777 - accuracy: 0.9127 - val_loss: 0.2289 - val_accuracy: 0.9267\n",
            "Epoch 28/30\n",
            "90/90 - 1s - loss: 0.2822 - accuracy: 0.9109 - val_loss: 0.2200 - val_accuracy: 0.9349\n",
            "Epoch 29/30\n",
            "90/90 - 1s - loss: 0.2677 - accuracy: 0.9152 - val_loss: 0.2246 - val_accuracy: 0.9289\n",
            "Epoch 30/30\n",
            "90/90 - 1s - loss: 0.2599 - accuracy: 0.9163 - val_loss: 0.2068 - val_accuracy: 0.9383\n",
            "Error:6.17%\n",
            "Model: \"sequential\"\n",
            "_________________________________________________________________\n",
            "Layer (type)                 Output Shape              Param #   \n",
            "=================================================================\n",
            "batch_normalization (BatchNo (None, 1024)              4096      \n",
            "_________________________________________________________________\n",
            "dense (Dense)                (None, 256)               262400    \n",
            "_________________________________________________________________\n",
            "dense_1 (Dense)              (None, 64)                16448     \n",
            "_________________________________________________________________\n",
            "dense_2 (Dense)              (None, 32)                2080      \n",
            "_________________________________________________________________\n",
            "dense_3 (Dense)              (None, 10)                330       \n",
            "=================================================================\n",
            "Total params: 285,354\n",
            "Trainable params: 283,306\n",
            "Non-trainable params: 2,048\n",
            "_________________________________________________________________\n"
          ],
          "name": "stdout"
        }
      ]
    },
    {
      "cell_type": "code",
      "metadata": {
        "colab": {
          "base_uri": "https://localhost:8080/"
        },
        "id": "uqEIXjftXsA1",
        "outputId": "eaa7edc9-fec1-43fc-82bb-4e980a1a38b5"
      },
      "source": [
        "Y_pred= model.predict(X_test)\n",
        "print(np.argmax(Y_pred[2]))\n",
        "print(np.argmax(y_test[2]))\n",
        "print(history.history.keys())"
      ],
      "execution_count": 34,
      "outputs": [
        {
          "output_type": "stream",
          "text": [
            "2\n",
            "2\n",
            "dict_keys(['loss', 'accuracy', 'val_loss', 'val_accuracy'])\n"
          ],
          "name": "stdout"
        }
      ]
    },
    {
      "cell_type": "markdown",
      "metadata": {
        "id": "jVqO8Hn4YGgS"
      },
      "source": [
        "# Error = 6.56% and accuracy = 0.9224\n",
        "# Deep learning is able to work on huge amount of data set especially with multi-dimensional data and was able to perform better than KNN"
      ]
    },
    {
      "cell_type": "code",
      "metadata": {
        "colab": {
          "base_uri": "https://localhost:8080/",
          "height": 295
        },
        "id": "RZyRl0zfXxzd",
        "outputId": "8af653e5-6c2e-465e-970b-c042dda2113d"
      },
      "source": [
        "#summarize history for accuracy\n",
        "plt.plot(history.history['accuracy'])\n",
        "plt.plot(history.history['val_accuracy'])\n",
        "plt.title('model accuracy')\n",
        "plt.ylabel('accuracy')\n",
        "plt.xlabel('epoch')\n",
        "plt.legend(['train','test'],loc='upper left')\n",
        "plt.show()\n"
      ],
      "execution_count": 35,
      "outputs": [
        {
          "output_type": "display_data",
          "data": {
            "image/png": "[encoded data removed]",
            "text/plain": [
              "<Figure size 432x288 with 1 Axes>"
            ]
          },
          "metadata": {
            "tags": [],
            "needs_background": "light"
          }
        }
      ]
    },
    {
      "cell_type": "code",
      "metadata": {
        "colab": {
          "base_uri": "https://localhost:8080/",
          "height": 295
        },
        "id": "id1PieJwYleg",
        "outputId": "bfd22db4-c605-4049-e4b2-04c60ada5a72"
      },
      "source": [
        "# summarize history for loss\n",
        "plt.plot(history.history['loss'])\n",
        "plt.plot(history.history['val_loss'])\n",
        "plt.title('model loss')\n",
        "plt.ylabel('loss')\n",
        "plt.xlabel('epoch')\n",
        "plt.legend(['train','test'],loc='upper left')\n",
        "plt.show()"
      ],
      "execution_count": 36,
      "outputs": [
        {
          "output_type": "display_data",
          "data": {
            "image/png": "[encoded data removed]",
            "text/plain": [
              "<Figure size 432x288 with 1 Axes>"
            ]
          },
          "metadata": {
            "tags": [],
            "needs_background": "light"
          }
        }
      ]
    }
  ]
}